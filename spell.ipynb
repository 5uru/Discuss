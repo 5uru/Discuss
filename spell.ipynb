{
 "cells": [
  {
   "cell_type": "code",
   "id": "initial_id",
   "metadata": {
    "collapsed": true,
    "ExecuteTime": {
     "end_time": "2024-05-04T19:23:08.941811Z",
     "start_time": "2024-05-04T19:23:07.345055Z"
    }
   },
   "source": [
    "\n",
    "from language_tool_python import LanguageTool\n",
    "from spellchecker import SpellChecker\n",
    "\n",
    "# Initialize LanguageTool object outside the function\n",
    "tool = LanguageTool('fr-FR')\n",
    "\n",
    "\n",
    "def grammar_check(text) :\n",
    "    matches = tool.check(text)\n",
    "    corrected_sentences = tool.correct(text)\n",
    "    return corrected_sentences , matches"
   ],
   "outputs": [],
   "execution_count": 3
  },
  {
   "metadata": {
    "ExecuteTime": {
     "end_time": "2024-05-04T19:16:53.437514Z",
     "start_time": "2024-05-04T19:16:44.935329Z"
    }
   },
   "cell_type": "code",
   "source": "grammar_check(\"J'ai manger beaucoup des pommes cette après-midi.\")",
   "id": "946e145325e75b4",
   "outputs": [
    {
     "data": {
      "text/plain": [
       "(\"J'ai mangé beaucoup des pommes cette après-midi.\",\n",
       " [Match({'ruleId': 'R_VAVOIR_VINF', 'message': 'Un participe passé est attendu après l’auxiliaire avoir.', 'replacements': ['mangé'], 'offsetInContext': 5, 'context': \"J'ai manger beaucoup des pommes cette après-midi.\", 'offset': 5, 'errorLength': 6, 'category': 'CAT_HOMONYMES_PARONYMES', 'ruleIssueType': 'uncategorized', 'sentence': \"J'ai manger beaucoup des pommes cette après-midi.\"})])"
      ]
     },
     "execution_count": 2,
     "metadata": {},
     "output_type": "execute_result"
    }
   ],
   "execution_count": 2
  },
  {
   "metadata": {
    "ExecuteTime": {
     "end_time": "2024-05-04T19:24:16.053158Z",
     "start_time": "2024-05-04T19:24:15.942220Z"
    }
   },
   "cell_type": "code",
   "source": [
    "text = \"J'ai manger beaucoup des pommes cette après-midi.\"\n",
    "spell = SpellChecker(\"fr-FR\")\n",
    "words = text.split( )\n",
    "# Correct spelling using PySpellChecker\n",
    "corrected_words = [ spell.correction(word) for word in words ]\n"
   ],
   "id": "933f7bf2971f9b35",
   "outputs": [
    {
     "ename": "ValueError",
     "evalue": "The provided dictionary language (fr-fr) does not exist!",
     "output_type": "error",
     "traceback": [
      "\u001B[0;31m---------------------------------------------------------------------------\u001B[0m",
      "\u001B[0;31mFileNotFoundError\u001B[0m                         Traceback (most recent call last)",
      "File \u001B[0;32m~/anaconda3/envs/Discute/lib/python3.11/site-packages/spellchecker/spellchecker.py:60\u001B[0m, in \u001B[0;36mSpellChecker.__init__\u001B[0;34m(self, language, local_dictionary, distance, tokenizer, case_sensitive)\u001B[0m\n\u001B[1;32m     59\u001B[0m \u001B[38;5;28;01mtry\u001B[39;00m:\n\u001B[0;32m---> 60\u001B[0m     json_open \u001B[38;5;241m=\u001B[39m pkgutil\u001B[38;5;241m.\u001B[39mget_data(\u001B[38;5;124m\"\u001B[39m\u001B[38;5;124mspellchecker\u001B[39m\u001B[38;5;124m\"\u001B[39m, filename)\n\u001B[1;32m     61\u001B[0m \u001B[38;5;28;01mexcept\u001B[39;00m \u001B[38;5;167;01mFileNotFoundError\u001B[39;00m \u001B[38;5;28;01mas\u001B[39;00m exc:\n",
      "File \u001B[0;32m~/anaconda3/envs/Discute/lib/python3.11/pkgutil.py:640\u001B[0m, in \u001B[0;36mget_data\u001B[0;34m(package, resource)\u001B[0m\n\u001B[1;32m    639\u001B[0m resource_name \u001B[38;5;241m=\u001B[39m os\u001B[38;5;241m.\u001B[39mpath\u001B[38;5;241m.\u001B[39mjoin(\u001B[38;5;241m*\u001B[39mparts)\n\u001B[0;32m--> 640\u001B[0m \u001B[38;5;28;01mreturn\u001B[39;00m loader\u001B[38;5;241m.\u001B[39mget_data(resource_name)\n",
      "File \u001B[0;32m<frozen importlib._bootstrap_external>:1130\u001B[0m, in \u001B[0;36mget_data\u001B[0;34m(self, path)\u001B[0m\n",
      "\u001B[0;31mFileNotFoundError\u001B[0m: [Errno 2] No such file or directory: '/Users/jonathansuru/anaconda3/envs/Discute/lib/python3.11/site-packages/spellchecker/resources/fr-fr.json.gz'",
      "\nThe above exception was the direct cause of the following exception:\n",
      "\u001B[0;31mValueError\u001B[0m                                Traceback (most recent call last)",
      "Cell \u001B[0;32mIn[7], line 2\u001B[0m\n\u001B[1;32m      1\u001B[0m text \u001B[38;5;241m=\u001B[39m \u001B[38;5;124m\"\u001B[39m\u001B[38;5;124mJ\u001B[39m\u001B[38;5;124m'\u001B[39m\u001B[38;5;124mai manger beaucoup des pommes cette après-midi.\u001B[39m\u001B[38;5;124m\"\u001B[39m\n\u001B[0;32m----> 2\u001B[0m spell \u001B[38;5;241m=\u001B[39m SpellChecker(\u001B[38;5;124m\"\u001B[39m\u001B[38;5;124mfr-FR\u001B[39m\u001B[38;5;124m\"\u001B[39m )\n\u001B[1;32m      3\u001B[0m words \u001B[38;5;241m=\u001B[39m text\u001B[38;5;241m.\u001B[39msplit( )\n\u001B[1;32m      4\u001B[0m \u001B[38;5;66;03m# Correct spelling using PySpellChecker\u001B[39;00m\n",
      "File \u001B[0;32m~/anaconda3/envs/Discute/lib/python3.11/site-packages/spellchecker/spellchecker.py:63\u001B[0m, in \u001B[0;36mSpellChecker.__init__\u001B[0;34m(self, language, local_dictionary, distance, tokenizer, case_sensitive)\u001B[0m\n\u001B[1;32m     61\u001B[0m \u001B[38;5;28;01mexcept\u001B[39;00m \u001B[38;5;167;01mFileNotFoundError\u001B[39;00m \u001B[38;5;28;01mas\u001B[39;00m exc:\n\u001B[1;32m     62\u001B[0m     msg \u001B[38;5;241m=\u001B[39m \u001B[38;5;124mf\u001B[39m\u001B[38;5;124m\"\u001B[39m\u001B[38;5;124mThe provided dictionary language (\u001B[39m\u001B[38;5;132;01m{\u001B[39;00mlang\u001B[38;5;241m.\u001B[39mlower()\u001B[38;5;132;01m}\u001B[39;00m\u001B[38;5;124m) does not exist!\u001B[39m\u001B[38;5;124m\"\u001B[39m\n\u001B[0;32m---> 63\u001B[0m     \u001B[38;5;28;01mraise\u001B[39;00m \u001B[38;5;167;01mValueError\u001B[39;00m(msg) \u001B[38;5;28;01mfrom\u001B[39;00m \u001B[38;5;21;01mexc\u001B[39;00m\n\u001B[1;32m     64\u001B[0m \u001B[38;5;28;01mif\u001B[39;00m json_open:\n\u001B[1;32m     65\u001B[0m     lang_dict \u001B[38;5;241m=\u001B[39m json\u001B[38;5;241m.\u001B[39mloads(gzip\u001B[38;5;241m.\u001B[39mdecompress(json_open)\u001B[38;5;241m.\u001B[39mdecode(\u001B[38;5;124m\"\u001B[39m\u001B[38;5;124mutf-8\u001B[39m\u001B[38;5;124m\"\u001B[39m))\n",
      "\u001B[0;31mValueError\u001B[0m: The provided dictionary language (fr-fr) does not exist!"
     ]
    }
   ],
   "execution_count": 7
  },
  {
   "metadata": {
    "ExecuteTime": {
     "end_time": "2024-05-04T19:24:00.406147Z",
     "start_time": "2024-05-04T19:24:00.402410Z"
    }
   },
   "cell_type": "code",
   "source": "corrected_words",
   "id": "c58dcf917df287af",
   "outputs": [
    {
     "data": {
      "text/plain": [
       "['jail', 'manger', None, 'does', 'pommel', 'better', None]"
      ]
     },
     "execution_count": 6,
     "metadata": {},
     "output_type": "execute_result"
    }
   ],
   "execution_count": 6
  },
  {
   "metadata": {},
   "cell_type": "code",
   "outputs": [],
   "execution_count": null,
   "source": [
    "result = ' '.join(corrected_words)\n",
    "result = grammar_check(result)"
   ],
   "id": "bd66560899762b77"
  }
 ],
 "metadata": {
  "kernelspec": {
   "display_name": "Python 3",
   "language": "python",
   "name": "python3"
  },
  "language_info": {
   "codemirror_mode": {
    "name": "ipython",
    "version": 2
   },
   "file_extension": ".py",
   "mimetype": "text/x-python",
   "name": "python",
   "nbconvert_exporter": "python",
   "pygments_lexer": "ipython2",
   "version": "2.7.6"
  }
 },
 "nbformat": 4,
 "nbformat_minor": 5
}
