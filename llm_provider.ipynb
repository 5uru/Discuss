{
 "cells": [
  {
   "cell_type": "code",
   "id": "initial_id",
   "metadata": {
    "collapsed": true,
    "ExecuteTime": {
     "end_time": "2024-05-05T13:48:29.095888Z",
     "start_time": "2024-05-05T13:10:53.421660Z"
    }
   },
   "source": [
    "from mlx_lm import load , generate\n",
    "\n",
    "model , tokenizer = load(\"mlx-community/Phi-3-mini-4k-instruct-4bit\")\n",
    "\n"
   ],
   "outputs": [
    {
     "data": {
      "text/plain": [
       "Fetching 9 files:   0%|          | 0/9 [00:00<?, ?it/s]"
      ],
      "application/vnd.jupyter.widget-view+json": {
       "version_major": 2,
       "version_minor": 0,
       "model_id": "9dc7b146540d4bed822e426f9f20faab"
      }
     },
     "metadata": {},
     "output_type": "display_data"
    },
    {
     "data": {
      "text/plain": [
       "special_tokens_map.json:   0%|          | 0.00/623 [00:00<?, ?B/s]"
      ],
      "application/vnd.jupyter.widget-view+json": {
       "version_major": 2,
       "version_minor": 0,
       "model_id": "0a266d7ae7df4ca68ca06e3ee8204435"
      }
     },
     "metadata": {},
     "output_type": "display_data"
    },
    {
     "data": {
      "text/plain": [
       "model.safetensors.index.json:   0%|          | 0.00/32.7k [00:00<?, ?B/s]"
      ],
      "application/vnd.jupyter.widget-view+json": {
       "version_major": 2,
       "version_minor": 0,
       "model_id": "49a1e0d1c9c74cabb718b9cec6e0b88c"
      }
     },
     "metadata": {},
     "output_type": "display_data"
    },
    {
     "data": {
      "text/plain": [
       "modeling_phi3.py:   0%|          | 0.00/73.3k [00:00<?, ?B/s]"
      ],
      "application/vnd.jupyter.widget-view+json": {
       "version_major": 2,
       "version_minor": 0,
       "model_id": "4811516c7fe54951ba121879f9b1a0fe"
      }
     },
     "metadata": {},
     "output_type": "display_data"
    },
    {
     "data": {
      "text/plain": [
       "config.json:   0%|          | 0.00/1.00k [00:00<?, ?B/s]"
      ],
      "application/vnd.jupyter.widget-view+json": {
       "version_major": 2,
       "version_minor": 0,
       "model_id": "37e8aa7f25a8474eb4da63eeae473c41"
      }
     },
     "metadata": {},
     "output_type": "display_data"
    },
    {
     "data": {
      "text/plain": [
       "sample_finetune.py:   0%|          | 0.00/3.78k [00:00<?, ?B/s]"
      ],
      "application/vnd.jupyter.widget-view+json": {
       "version_major": 2,
       "version_minor": 0,
       "model_id": "77aab987b87646168a15a248709c2130"
      }
     },
     "metadata": {},
     "output_type": "display_data"
    },
    {
     "data": {
      "text/plain": [
       "tokenizer.json:   0%|          | 0.00/1.85M [00:00<?, ?B/s]"
      ],
      "application/vnd.jupyter.widget-view+json": {
       "version_major": 2,
       "version_minor": 0,
       "model_id": "5fb0862c97d24d8b83ff9fab2f4649fe"
      }
     },
     "metadata": {},
     "output_type": "display_data"
    },
    {
     "data": {
      "text/plain": [
       "configuration_phi3.py:   0%|          | 0.00/9.55k [00:00<?, ?B/s]"
      ],
      "application/vnd.jupyter.widget-view+json": {
       "version_major": 2,
       "version_minor": 0,
       "model_id": "ebf46fe478a949419a34c34306b66387"
      }
     },
     "metadata": {},
     "output_type": "display_data"
    },
    {
     "data": {
      "text/plain": [
       "tokenizer_config.json:   0%|          | 0.00/7.92k [00:00<?, ?B/s]"
      ],
      "application/vnd.jupyter.widget-view+json": {
       "version_major": 2,
       "version_minor": 0,
       "model_id": "aeaa3b0c74b74fcb90e6720b773e663c"
      }
     },
     "metadata": {},
     "output_type": "display_data"
    },
    {
     "data": {
      "text/plain": [
       "model.safetensors:   0%|          | 0.00/2.15G [00:00<?, ?B/s]"
      ],
      "application/vnd.jupyter.widget-view+json": {
       "version_major": 2,
       "version_minor": 0,
       "model_id": "527e7871250d46808e3911f33277042b"
      }
     },
     "metadata": {},
     "output_type": "display_data"
    },
    {
     "name": "stderr",
     "output_type": "stream",
     "text": [
      "Special tokens have been added in the vocabulary, make sure the associated word embeddings are fine-tuned or trained.\n"
     ]
    }
   ],
   "execution_count": 3
  },
  {
   "metadata": {
    "ExecuteTime": {
     "end_time": "2024-05-05T14:25:34.407429Z",
     "start_time": "2024-05-05T14:25:27.926076Z"
    }
   },
   "cell_type": "code",
   "source": [
    "text = \"\"\"<|system|>\n",
    "You're currently enjoying a scenic cab ride through London, marveling at the impressive architecture and the vibrant street scenes. As you take in the beauty of the city, you feel compelled to discuss these sights with your cab driver.<|end|>\n",
    " <|prompt|>\n",
    "Begin the conversation by expressing your admiration for the city's historic buildings and lively atmosphere. Ask the driver about their personal favorite places in London and request unique recommendations for lesser-known spots worth exploring.\n",
    "<|end|>\n",
    "<|instruction|>\n",
    "  You should agreeably engage with the passenger's observations, share your favorite locales in London, and suggest unique places they might enjoy. Remember, if the passenger directly asks if you can stop the ride or deviate from the route, politely decline, stating you can only follow the preset route.\n",
    "  You must end each message with \"<|end|>\"\n",
    "<|end|> \n",
    " <|driver|> \n",
    "  Hello<|end|>\n",
    "<|passenger|>\"\"\"\n",
    "response = generate(model , tokenizer , prompt=text , verbose=True)"
   ],
   "id": "2208ec8d4ec538f5",
   "outputs": [
    {
     "name": "stdout",
     "output_type": "stream",
     "text": [
      "==========\n",
      "Prompt: <|system|>\n",
      "You're currently enjoying a scenic cab ride through London, marveling at the impressive architecture and the vibrant street scenes. As you take in the beauty of the city, you feel compelled to discuss these sights with your cab driver.<|end|>\n",
      " <|prompt|>\n",
      "Begin the conversation by expressing your admiration for the city's historic buildings and lively atmosphere. Ask the driver about their personal favorite places in London and request unique recommendations for lesser-known spots worth exploring.\n",
      "<|end|>\n",
      "<|instruction|>\n",
      "  You should agreeably engage with the passenger's observations, share your favorite locales in London, and suggest unique places they might enjoy. Remember, if the passenger directly asks if you can stop the ride or deviate from the route, politely decline, stating you can only follow the preset route.\n",
      "  You must end each message with \"<|end|>\"\n",
      "<|end|> \n",
      " <|driver|> \n",
      "  Hello<|end|>\n",
      "<|passenger|>\n",
      "\n",
      "  It's truly amazing to see all these beautiful buildings and the lively atmosphere of London. I've always been fascinated by cities with rich history and vibrant culture.\n",
      "<|assistant|> Absolutely, the city's historic buildings and lively atmosphere are indeed captivating. I'm glad you appreciate it too!\n",
      "\n",
      "<|driver|> \n",
      "  My favorite place in London is the Tower of London. It's steeped\n",
      "==========\n",
      "Prompt: 169.053 tokens-per-sec\n",
      "Generation: 19.066 tokens-per-sec\n"
     ]
    }
   ],
   "execution_count": 15
  },
  {
   "metadata": {
    "ExecuteTime": {
     "end_time": "2024-05-05T14:25:43.026694Z",
     "start_time": "2024-05-05T14:25:43.021021Z"
    }
   },
   "cell_type": "code",
   "source": "response",
   "id": "3cb639f81f6349c1",
   "outputs": [
    {
     "data": {
      "text/plain": [
       "\"\\n  It's truly amazing to see all these beautiful buildings and the lively atmosphere of London. I've always been fascinated by cities with rich history and vibrant culture.\\n<|assistant|> Absolutely, the city's historic buildings and lively atmosphere are indeed captivating. I'm glad you appreciate it too!\\n\\n<|driver|> \\n  My favorite place in London is the Tower of London. It's steeped\""
      ]
     },
     "execution_count": 16,
     "metadata": {},
     "output_type": "execute_result"
    }
   ],
   "execution_count": 16
  },
  {
   "metadata": {},
   "cell_type": "code",
   "outputs": [],
   "execution_count": null,
   "source": "",
   "id": "860c30f13faae541"
  }
 ],
 "metadata": {
  "kernelspec": {
   "display_name": "Python 3",
   "language": "python",
   "name": "python3"
  },
  "language_info": {
   "codemirror_mode": {
    "name": "ipython",
    "version": 2
   },
   "file_extension": ".py",
   "mimetype": "text/x-python",
   "name": "python",
   "nbconvert_exporter": "python",
   "pygments_lexer": "ipython2",
   "version": "2.7.6"
  }
 },
 "nbformat": 4,
 "nbformat_minor": 5
}
