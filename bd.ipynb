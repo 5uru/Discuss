{
 "cells": [
  {
   "cell_type": "code",
   "id": "initial_id",
   "metadata": {
    "collapsed": true,
    "ExecuteTime": {
     "end_time": "2024-05-08T19:36:26.018302Z",
     "start_time": "2024-05-08T19:36:26.011015Z"
    }
   },
   "source": [
    "from backend.app.database import insert_chat\n",
    "\n",
    "prompt = \"\"\"\n",
    " <|system|>\n",
    "You're currently enjoying a scenic cab ride through London, marveling at the impressive architecture and the vibrant street scenes. As you take in the beauty of the city, you feel compelled to discuss these sights with your cab driver.<|end|>\n",
    " <|prompt|>\n",
    "Begin the conversation by expressing your admiration for the city's historic buildings and lively atmosphere. Ask the driver about their personal favorite places in London and request unique recommendations for lesser-known spots worth exploring.\n",
    "<|end|>\n",
    "<|instruction|>\n",
    "  You should agreeably engage with the passenger's observations, share your favorite locales in London, and suggest unique places they might enjoy. Remember, if the passenger directly asks if you can stop the ride or deviate from the route, politely decline, stating you can only follow the preset route.\n",
    "  You must end each message with \"<|end|>\"\n",
    "<|end|> \n",
    " \"\"\"\n",
    "roles = {\n",
    "        \"user\" : \"Passenger\" ,\n",
    "        \"assistant\" : \"Taxi Driver\"\n",
    "}\n",
    "insert_chat(name=\"Taxi Driver\" , prompt=prompt , roles=roles)"
   ],
   "outputs": [
    {
     "data": {
      "text/plain": [
       "1"
      ]
     },
     "execution_count": 1,
     "metadata": {},
     "output_type": "execute_result"
    }
   ],
   "execution_count": 1
  },
  {
   "metadata": {
    "ExecuteTime": {
     "end_time": "2024-05-08T19:36:28.433290Z",
     "start_time": "2024-05-08T19:36:28.428601Z"
    }
   },
   "cell_type": "code",
   "source": [
    "from backend.app.database import get_all_chats\n",
    "\n",
    "get_all_chats( )"
   ],
   "id": "58fb60d26ab17fcd",
   "outputs": [
    {
     "data": {
      "text/plain": [
       "[(1,\n",
       "  'Taxi Driver',\n",
       "  '\\n <|system|>\\nYou\\'re currently enjoying a scenic cab ride through London, marveling at the impressive architecture and the vibrant street scenes. As you take in the beauty of the city, you feel compelled to discuss these sights with your cab driver.<|end|>\\n <|prompt|>\\nBegin the conversation by expressing your admiration for the city\\'s historic buildings and lively atmosphere. Ask the driver about their personal favorite places in London and request unique recommendations for lesser-known spots worth exploring.\\n<|end|>\\n<|instruction|>\\n  You should agreeably engage with the passenger\\'s observations, share your favorite locales in London, and suggest unique places they might enjoy. Remember, if the passenger directly asks if you can stop the ride or deviate from the route, politely decline, stating you can only follow the preset route.\\n  You must end each message with \"<|end|>\"\\n<|end|> \\n ',\n",
       "  '{\"user\": \"Passenger\", \"assistant\": \"Taxi Driver\"}')]"
      ]
     },
     "execution_count": 2,
     "metadata": {},
     "output_type": "execute_result"
    }
   ],
   "execution_count": 2
  },
  {
   "metadata": {
    "ExecuteTime": {
     "end_time": "2024-05-07T18:20:39.529813Z",
     "start_time": "2024-05-07T18:20:39.524143Z"
    }
   },
   "cell_type": "code",
   "source": [
    "from backend.app.database import get_chat_by_id\n",
    "\n",
    "get_chat_by_id(1)"
   ],
   "id": "22cf2dc694c639b3",
   "outputs": [
    {
     "data": {
      "text/plain": [
       "(1,\n",
       " 'Taxi Driver',\n",
       " '\\n <|system|>\\nYou\\'re currently enjoying a scenic cab ride through London, marveling at the impressive architecture and the vibrant street scenes. As you take in the beauty of the city, you feel compelled to discuss these sights with your cab driver.<|end|>\\n <|prompt|>\\nBegin the conversation by expressing your admiration for the city\\'s historic buildings and lively atmosphere. Ask the driver about their personal favorite places in London and request unique recommendations for lesser-known spots worth exploring.\\n<|end|>\\n<|instruction|>\\n  You should agreeably engage with the passenger\\'s observations, share your favorite locales in London, and suggest unique places they might enjoy. Remember, if the passenger directly asks if you can stop the ride or deviate from the route, politely decline, stating you can only follow the preset route.\\n  You must end each message with \"<|end|>\"\\n<|end|> \\n ')"
      ]
     },
     "execution_count": 2,
     "metadata": {},
     "output_type": "execute_result"
    }
   ],
   "execution_count": 2
  },
  {
   "metadata": {
    "ExecuteTime": {
     "end_time": "2024-05-08T19:38:14.859826Z",
     "start_time": "2024-05-08T19:38:14.853358Z"
    }
   },
   "cell_type": "code",
   "source": [
    "import librosa\n",
    "\n",
    "\n",
    "def audio_to_ndarray(audio_file_path) :\n",
    "    # Load the audio file\n",
    "    audio_data , sampling_rate = librosa.load(audio_file_path , sr=None)\n",
    "    return audio_data , sampling_rate"
   ],
   "id": "1af823d6fc5c6d8",
   "outputs": [],
   "execution_count": 3
  },
  {
   "metadata": {
    "ExecuteTime": {
     "end_time": "2024-05-08T19:38:17.846158Z",
     "start_time": "2024-05-08T19:38:16.921097Z"
    }
   },
   "cell_type": "code",
   "source": "audio = audio_to_ndarray(\"parler_tts_out.wav\")",
   "id": "96e2b46a2106360",
   "outputs": [],
   "execution_count": 4
  },
  {
   "metadata": {
    "ExecuteTime": {
     "end_time": "2024-05-08T19:38:19.350633Z",
     "start_time": "2024-05-08T19:38:19.341648Z"
    }
   },
   "cell_type": "code",
   "source": [
    "audio_dict = {\n",
    "        \"audio\" : audio[ 0 ].tolist( ) ,\n",
    "        \"sampling_rate\" : audio[ 1 ]\n",
    "}"
   ],
   "id": "caacc74ba51c6087",
   "outputs": [],
   "execution_count": 5
  },
  {
   "metadata": {
    "ExecuteTime": {
     "end_time": "2024-05-08T19:38:20.321258Z",
     "start_time": "2024-05-08T19:38:20.106826Z"
    }
   },
   "cell_type": "code",
   "source": [
    "from backend.app.database import insert_message\n",
    "\n",
    "insert_message(chat_id=1 , role=\"user\" ,\n",
    "               content=\"Hello, I'm really enjoying the sights of London. The architecture is so impressive, and the streets are so lively. What are your favorite places in London? Can you recommend some unique spots to explore?\" ,\n",
    "               audio=audio_dict)"
   ],
   "id": "b8593202625d91ee",
   "outputs": [],
   "execution_count": 6
  },
  {
   "metadata": {
    "ExecuteTime": {
     "end_time": "2024-05-08T19:44:18.068199Z",
     "start_time": "2024-05-08T19:44:18.052180Z"
    }
   },
   "cell_type": "code",
   "source": [
    "from backend.app.database import get_messages_by_chat_id\n",
    "\n",
    "get_messages_by_chat_id(1)[ 0 ][ 3 ]"
   ],
   "id": "c5c76bb0e10fe16b",
   "outputs": [
    {
     "data": {
      "text/plain": [
       "b\"Hello, I'm really enjoying the sights of London. The architecture is so impressive, and the streets are so lively. What are your favorite places in London? Can you recommend some unique spots to explore?\""
      ]
     },
     "execution_count": 11,
     "metadata": {},
     "output_type": "execute_result"
    }
   ],
   "execution_count": 11
  },
  {
   "metadata": {},
   "cell_type": "code",
   "outputs": [],
   "execution_count": null,
   "source": "",
   "id": "6f7eb99624fd1f36"
  }
 ],
 "metadata": {
  "kernelspec": {
   "display_name": "Python 3",
   "language": "python",
   "name": "python3"
  },
  "language_info": {
   "codemirror_mode": {
    "name": "ipython",
    "version": 2
   },
   "file_extension": ".py",
   "mimetype": "text/x-python",
   "name": "python",
   "nbconvert_exporter": "python",
   "pygments_lexer": "ipython2",
   "version": "2.7.6"
  }
 },
 "nbformat": 4,
 "nbformat_minor": 5
}
