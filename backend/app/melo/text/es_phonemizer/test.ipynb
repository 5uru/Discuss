{
 "cells": [
  {
   "cell_type": "code",
   "execution_count": 1,
   "metadata": {},
   "source": [
    "import re\n",
    "import os\n",
    "import os, sys\n",
    "sys.path.append('/home/xumin/workspace/MyShell-VC-Training/text/es_phonemizer/')\n",
    "from es_to_ipa import es2ipa\n",
    "\n",
    "\n",
    "\n",
    "def split_sentences_en(text, min_len=10):\n",
    "  # 将文本中的换行符、空格和制表符替换为空格\n",
    "  text = re.sub('[\\n\\t ]+', ' ', text)\n",
    "  # 在标点符号后添加一个空格\n",
    "  text = re.sub('([¿—¡])', r'\\1 $#!', text)\n",
    "  # 分隔句子并去除前后空格\n",
    "  \n",
    "  sentences = [s.strip() for s in text.split(' $#!')]\n",
    "  if len(sentences[-1]) == 0: del sentences[-1]\n",
    "\n",
    "  new_sentences = []\n",
    "  new_sent = []\n",
    "  for ind, sent in enumerate(sentences):\n",
    "    if sent in ['¿', '—', '¡']:\n",
    "      new_sent.append(sent)\n",
    "    else:\n",
    "      new_sent.append(es2ipa(sent))\n",
    "    \n",
    "  \n",
    "  new_sentences = ''.join(new_sent)\n",
    "\n",
    "  return new_sentences"
   ],
   "outputs": []
  },
  {
   "cell_type": "code",
   "execution_count": 3,
   "metadata": {},
   "source": [
    "split_sentences_en('—¿Habéis estado casada alguna vez?')"
   ],
   "outputs": []
  },
  {
   "cell_type": "code",
   "execution_count": 4,
   "metadata": {},
   "source": [
    "es2ipa('—¿Habéis estado casada alguna vez?')"
   ],
   "outputs": []
  },
  {
   "cell_type": "code",
   "execution_count": null,
   "metadata": {},
   "source": [],
   "outputs": []
  }
 ],
 "metadata": {
  "kernelspec": {
   "display_name": "base",
   "language": "python",
   "name": "python3"
  },
  "language_info": {
   "codemirror_mode": {
    "name": "ipython",
    "version": 3
   },
   "file_extension": ".py",
   "mimetype": "text/x-python",
   "name": "python",
   "nbconvert_exporter": "python",
   "pygments_lexer": "ipython3",
   "version": "3.8.18"
  },
  "orig_nbformat": 4
 },
 "nbformat": 4,
 "nbformat_minor": 2
}
